{
 "cells": [
  {
   "cell_type": "code",
   "execution_count": 1,
   "metadata": {},
   "outputs": [],
   "source": [
    "import pickle\n",
    "import os\n",
    "import sys\n",
    "from single_preprocess import process_file\n",
    "import warnings\n",
    "warnings.filterwarnings(\"ignore\", message=\"X does not have valid feature names\")"
   ]
  },
  {
   "cell_type": "code",
   "execution_count": 2,
   "metadata": {},
   "outputs": [
    {
     "name": "stdout",
     "output_type": "stream",
     "text": [
      "\n",
      "Processing test_code.php...\n",
      "Preprocessor:\n",
      "[[0.15 0.15 0.2  0.2  0.1  0.1  0.05 0.05 0.   0.   0.   0.   0.   0.\n",
      "  0.   0.   0.   0.  ]]\n",
      "Predictions:\n",
      "[[0. 0. 0. 0. 0.]]\n",
      "Prediction: No vulnerabilities detected\n"
     ]
    }
   ],
   "source": [
    "# Step 1: Preprocess the input file\n",
    "input_file_path = \"test_code.php\"\n",
    "preprocessed_features = process_file(input_file_path)\n",
    "\n",
    "# Ensure preprocessed_features is a 2D array\n",
    "if len(preprocessed_features.shape) == 1:\n",
    "    preprocessed_features = preprocessed_features.reshape(1, -1)\n",
    "\n",
    "# Step 2: Load the saved model\n",
    "with open('bloom_randomforest.sav', 'rb') as f:\n",
    "    model = pickle.load(f)\n",
    "\n",
    "# Step 3: Make predictions\n",
    "predictions = model.predict(preprocessed_features)\n",
    "\n",
    "# Inject feature names\n",
    "feature_names = [\n",
    "    \"SQL Injection (SQLi)\",\n",
    "    \"Cross-Site Scripting (XSS)\",\n",
    "    \"Command/Code Injection\",\n",
    "    \"File Inclusion\",\n",
    "    \"Prototype Pollution\"\n",
    "]\n",
    "\n",
    "print(\"Preprocessor:\")\n",
    "print(preprocessed_features)\n",
    "print(\"Predictions:\")\n",
    "print(predictions)\n",
    "\n",
    "# # Get the names of features with values being 1\n",
    "predicted_features = [name for name, value in zip(feature_names, predictions[0]) if value == 1]\n",
    "\n",
    "# Print only the features with values being 1\n",
    "if predicted_features:\n",
    "    print(\"Prediction:\", \", \".join(predicted_features))\n",
    "else:\n",
    "    print(\"Prediction: No vulnerabilities detected\")"
   ]
  }
 ],
 "metadata": {
  "kernelspec": {
   "display_name": "venv",
   "language": "python",
   "name": "python3"
  },
  "language_info": {
   "codemirror_mode": {
    "name": "ipython",
    "version": 3
   },
   "file_extension": ".py",
   "mimetype": "text/x-python",
   "name": "python",
   "nbconvert_exporter": "python",
   "pygments_lexer": "ipython3",
   "version": "3.11.8"
  }
 },
 "nbformat": 4,
 "nbformat_minor": 2
}
