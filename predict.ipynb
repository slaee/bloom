{
 "cells": [
  {
   "cell_type": "code",
   "execution_count": 54,
   "metadata": {},
   "outputs": [],
   "source": [
    "import pickle\n",
    "import sys\n",
    "from single_preprocess import process_file\n",
    "import warnings\n",
    "warnings.filterwarnings(\"ignore\", message=\"X does not have valid feature names\")"
   ]
  },
  {
   "cell_type": "code",
   "execution_count": 55,
   "metadata": {},
   "outputs": [
    {
     "name": "stdout",
     "output_type": "stream",
     "text": [
      "\n",
      "Processing F:/Special Problems/bloom/test_code.php...\n",
      "Prediction: No vulnerabilities detected\n"
     ]
    }
   ],
   "source": [
    "# Step 1: Preprocess the input file\n",
    "input_file_path = \"F:/Special Problems/bloom/test_code.php\"\n",
    "preprocessed_features = process_file(input_file_path)\n",
    "\n",
    "# Ensure preprocessed_features is a 2D array\n",
    "if len(preprocessed_features.shape) == 1:\n",
    "    preprocessed_features = preprocessed_features.reshape(1, -1)\n",
    "\n",
    "# Select only the first 21 columns (X-features) as input to the model\n",
    "preprocessed_X_features = preprocessed_features[:, :21]\n",
    "\n",
    "# Select the last 6 columns (y-features) as preprocessed_y_features\n",
    "preprocessed_y_features = preprocessed_features[:, -6:]\n",
    "\n",
    "# Step 2: Load the saved model\n",
    "with open('bloom_model.sav', 'rb') as f:\n",
    "    model = pickle.load(f)\n",
    "\n",
    "# Step 3: Make predictions\n",
    "predictions = model.predict(preprocessed_X_features)\n",
    "\n",
    "# Inject feature names\n",
    "feature_names = [\n",
    "    \"SQL Injection (SQLi)\",\n",
    "    \"Cross-Site Scripting (XSS)\",\n",
    "    \"Command/Code Injection\",\n",
    "    \"File Inclusion\",\n",
    "    \"No Input Validation\",\n",
    "    \"Prototype Pollution\"\n",
    "]\n",
    "\n",
    "print(\"Preprocessor:\")\n",
    "print(preprocessed_features)\n",
    "print(\"Predictions:\")\n",
    "print(predictions)\n",
    "\n",
    "# # Get the names of features with values being 1\n",
    "predicted_features = [name for name, value in zip(feature_names, predictions[0]) if value == 1]\n",
    "\n",
    "# Print only the features with values being 1\n",
    "if predicted_features:\n",
    "    print(\"Prediction:\", \", \".join(predicted_features))\n",
    "else:\n",
    "    print(\"Prediction: No vulnerabilities detected\")"
   ]
  }
 ],
 "metadata": {
  "kernelspec": {
   "display_name": "venv",
   "language": "python",
   "name": "python3"
  },
  "language_info": {
   "codemirror_mode": {
    "name": "ipython",
    "version": 3
   },
   "file_extension": ".py",
   "mimetype": "text/x-python",
   "name": "python",
   "nbconvert_exporter": "python",
   "pygments_lexer": "ipython3",
   "version": "3.11.1"
  }
 },
 "nbformat": 4,
 "nbformat_minor": 2
}
